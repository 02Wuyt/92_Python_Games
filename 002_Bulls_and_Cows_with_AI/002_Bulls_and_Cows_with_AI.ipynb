{
 "cells": [
  {
   "cell_type": "markdown",
   "metadata": {},
   "source": [
    "<small><small><i>\n",
    "All the IPython Notebooks in this **Python Games** series by Dr. Milaan Parmar are available @ **[GitHub](https://github.com/milaan9/92_Python_Games)**\n",
    "</i></small></small>"
   ]
  },
  {
   "cell_type": "markdown",
   "metadata": {},
   "source": [
    "# Bulls and Cows with AI\n",
    "\n",
    "Adding a simple AI to the Bulls and Cows Game:\n",
    "\n",
    "* Player vs. AI (1 - player mode)"
   ]
  },
  {
   "cell_type": "code",
   "execution_count": 1,
   "metadata": {
    "ExecuteTime": {
     "end_time": "2021-07-26T21:00:30.328712Z",
     "start_time": "2021-07-26T20:57:22.296311Z"
    }
   },
   "outputs": [
    {
     "name": "stdout",
     "output_type": "stream",
     "text": [
      "Think about a number between 1000 and 9999\n",
      "such as its digits are distinct\n",
      "Let's start now : You 👱 Start\n",
      "\n",
      "\tYour 👱 turn\n",
      "Guess my number💭: 9874\n",
      "3 bulls and 0 cows\n",
      "\n",
      "\t  My 🤖 turn\n",
      "Number 🤖 guessed:  4027\n",
      "How many cows   ☆: 2\n",
      "How many bulls  ★: 0\n",
      "\n",
      "\tYour 👱 turn\n",
      "Guess my number💭: 9875\n",
      "2 bulls and 0 cows\n",
      "\n",
      "\t  My 🤖 turn\n",
      "Number 🤖 guessed:  7632\n",
      "How many cows   ☆: 1\n",
      "How many bulls  ★: 1\n",
      "\n",
      "\tYour 👱 turn\n",
      "Guess my number💭: 9275\n",
      "2 bulls and 0 cows\n",
      "\n",
      "\t  My 🤖 turn\n",
      "Number 🤖 guessed:  7314\n",
      "How many cows   ☆: 2\n",
      "How many bulls  ★: 1\n",
      "\n",
      "\tYour 👱 turn\n",
      "Guess my number💭: 9674\n",
      "4 bulls and 0 cows\n",
      "Wow! You're amazing, you managed to beat a robot as smart as me. Respect! 🙌\n",
      "\n",
      "Do you wish to play again❓ yes/no: no\n",
      "\n",
      " \n"
     ]
    }
   ],
   "source": [
    "import random \n",
    "def vt (g, n): # g : string and n string  \n",
    "\tt=v=0\n",
    "\tfor i in range(4) : \n",
    "\t\tif g[i] == n[i] : \n",
    "\t\t\tt+=1\n",
    "\t\telif g[i] in n : \n",
    "\t\t\tv+=1\n",
    "\treturn (str(t) + str(v))\n",
    "\n",
    "def distinct (n) :  # n  : string\n",
    "\ttest = True\n",
    "\tif n[0] == \"0\" : \n",
    "\t\ttest = False\n",
    "\tif int(n) < 1000 or int(n) > 9999 : \n",
    "\t\ttest = False \n",
    "\tif test == True : \n",
    "\t\tfor i in range(3) : \n",
    "\t\t\tif (n.count(n[i]) > 1) : \n",
    "\t\t\t\ttest = False \n",
    "\t\t\t\n",
    "\treturn test \n",
    "\n",
    "def liste (k, u, g) :# k : list et u : string et g : string \n",
    "\tr=[]\n",
    "\tfor i in k : \n",
    "\t\tif vt(g,str(i)) == u : \n",
    "\t\t\tr.append(i)\n",
    "\treturn r \n",
    "\n",
    "def k0 () : \n",
    "\ts=[] \n",
    "\tfor i in range(1000, 10000) : \n",
    "\t\tif distinct(str(i)) : \n",
    "\t\t\ts.append(i)\n",
    "\treturn s \n",
    "\n",
    "\t\n",
    "stop = False \n",
    "while stop == False : \n",
    "\tprint (\"\"\"Think about a number between 1000 and 9999\n",
    "such as its digits are distinct\n",
    "Let's start now : You 👱 Start\"\"\")\n",
    "\tpossible = k0() # possible is a list of integer\n",
    "\tnum = possible [random.randint(0,len(possible)-1)]\n",
    "\t\n",
    "\twhile True :\n",
    "\t\t\t\twhile True : \n",
    "\t\t\t\t\ttry : \n",
    "\t\t\t\t\t\tprint (\"\\n\\tYour 👱 turn\") \n",
    "\t\t\t\t\t\tchoice = str(int((input(\"Guess my number💭: \"))))\n",
    "\t\t\t\t\t\tif distinct (str(choice)) :\n",
    "\t\t\t\t\t\t\tbreak \n",
    "\t\t\t\t\texcept : \n",
    "\t\t\t\t\t\tcontinue\n",
    "\t\t\t\tprint (vt(str(choice),str(num))[0] , \"bulls and\", vt(str(choice),str(num))[1], \"cows\") \n",
    "\t\t\t\tif vt(str(choice),str(num) )[0] == \"4\" : \n",
    "\t\t\t\t\tprint (\"Wow! You're amazing, you managed to beat a robot as smart as me. Respect! 🙌\") \n",
    "\t\t\t\t\tbreak \n",
    "\t\t\t\telse : \n",
    "\t\t\t\t\tprint (\"\\n\\t  My 🤖 turn\") \n",
    "\t\t\t\n",
    "\t\t\n",
    "\t\t\t\ttry :\n",
    "\t\t\t\t\tguess = str (possible [random.randint(0,len(possible)-1)] )\n",
    "\t\t\t\t\tif len (possible) == 1 : \n",
    "\t\t\t\t\t\tprint(\"HAHAHA I won 💪: \" ,possible[0]) \n",
    "\t\t\t\t\t\tbreak \n",
    "\t\t\t\t\t\n",
    "\t\t\t\t\tprint (\"Number 🤖 guessed: \" , guess ) \n",
    "\t\t\t\t\tv = input (\"How many cows   ☆: \") \n",
    "\t\t\t\t\tt = input (\"How many bulls  ★: \") \n",
    "\t\t\t\t\t \n",
    "\t\t\t\t\tvtt =  t+v \n",
    "\t\t\t\t\tif t == \"4\" : \n",
    "\t\t\t\t\t\tprint (\"HAHAHAA! I won 💪: \" ,guess) \n",
    "\t\t\t\t\t\tbreak\n",
    "\t\t\t\t \n",
    "\t\t\t\t\t\n",
    "\t\t\t\t\tpossible = liste (possible, vtt , guess)\n",
    "\t\t\t\t\tif len (possible) == 0 : \n",
    "\t\t\t\t\t\tprint (\"You apparently made a mistake somewhere!😤\") \n",
    "\t\t\t\t\t\tbreak\n",
    "\t\t\t\texcept : \n",
    "\t\t\t\t\tprint (\"You apparently made a mistake somewhere!😤\") \n",
    "\t\t\t\t\tbreak\n",
    "\t\t\n",
    "\t\t\n",
    "\t\t\t\n",
    "\twhile True :\n",
    "\t\t\t\t\thaha = input (\"\\nDo you wish to play again❓ yes/no: \")\n",
    "\t\t\t\t\tif \"no\" in haha or \"No\" in haha or \"NO\" in haha or \"yes\" in haha or \"YES\" in haha or \"Yes\" in haha:\n",
    "\t\t\t\t\t\tif \"no\" in haha or \"No\" in haha or \"NO\" in haha: \n",
    "\t\t\t\t\t\t\tstop = True\n",
    "\t\t\t\t\t\tbreak\n",
    "\t\t\t\t\t\t\n",
    "print(\"\"\"\n",
    " \"\"\")"
   ]
  },
  {
   "cell_type": "markdown",
   "metadata": {},
   "source": [
    "<div>\n",
    "<img src=\"img/output_2.png\" width=\"400\"/>\n",
    "</div>"
   ]
  },
  {
   "cell_type": "code",
   "execution_count": null,
   "metadata": {},
   "outputs": [],
   "source": []
  }
 ],
 "metadata": {
  "hide_input": false,
  "kernelspec": {
   "display_name": "Python 3",
   "language": "python",
   "name": "python3"
  },
  "language_info": {
   "codemirror_mode": {
    "name": "ipython",
    "version": 3
   },
   "file_extension": ".py",
   "mimetype": "text/x-python",
   "name": "python",
   "nbconvert_exporter": "python",
   "pygments_lexer": "ipython3",
   "version": "3.8.8"
  },
  "toc": {
   "base_numbering": 1,
   "nav_menu": {},
   "number_sections": true,
   "sideBar": true,
   "skip_h1_title": false,
   "title_cell": "Table of Contents",
   "title_sidebar": "Contents",
   "toc_cell": false,
   "toc_position": {},
   "toc_section_display": true,
   "toc_window_display": false
  },
  "varInspector": {
   "cols": {
    "lenName": 16,
    "lenType": 16,
    "lenVar": 40
   },
   "kernels_config": {
    "python": {
     "delete_cmd_postfix": "",
     "delete_cmd_prefix": "del ",
     "library": "var_list.py",
     "varRefreshCmd": "print(var_dic_list())"
    },
    "r": {
     "delete_cmd_postfix": ") ",
     "delete_cmd_prefix": "rm(",
     "library": "var_list.r",
     "varRefreshCmd": "cat(var_dic_list()) "
    }
   },
   "types_to_exclude": [
    "module",
    "function",
    "builtin_function_or_method",
    "instance",
    "_Feature"
   ],
   "window_display": false
  }
 },
 "nbformat": 4,
 "nbformat_minor": 4
}
